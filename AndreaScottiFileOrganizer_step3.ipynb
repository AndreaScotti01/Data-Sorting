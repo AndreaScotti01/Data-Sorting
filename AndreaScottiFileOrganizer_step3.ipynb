{
 "cells": [
  {
   "cell_type": "markdown",
   "metadata": {},
   "source": [
    "## Importazione librerie"
   ]
  },
  {
   "cell_type": "code",
   "execution_count": null,
   "metadata": {},
   "outputs": [],
   "source": [
    "from PIL import Image\n",
    "import numpy as np\n",
    "import os\n",
    "from prettytable import PrettyTable"
   ]
  },
  {
   "cell_type": "markdown",
   "metadata": {},
   "source": [
    "Come si può notare ho importato una libreria che non era presente nella consegna (prettytable) questo perchè non sonoo riuscito in autonomia a creare una table per fare il display dei dati perciò per ottenere un risultato quanto più simile a quello della consegna dell'esercizio ho usato questa libreria."
   ]
  },
  {
   "cell_type": "markdown",
   "metadata": {},
   "source": [
    "## Definizioni delle funzioni"
   ]
  },
  {
   "cell_type": "markdown",
   "metadata": {},
   "source": [
    "### 1) Funzione di aggiunta riga a tabella"
   ]
  },
  {
   "cell_type": "code",
   "execution_count": null,
   "metadata": {},
   "outputs": [],
   "source": [
    "def add_to_text_table(table_name,file_name,pic_height,pic_width,grayscale,red,green,blue,alpha):\n",
    "       table_name.add_row([file_name,pic_height,pic_width,grayscale,red,green,blue,alpha])"
   ]
  },
  {
   "cell_type": "markdown",
   "metadata": {},
   "source": [
    "Il compito di questa funzione è quello di aggiungere alla tabella creta nella funzione main unja nuova riga con le variabili specificate nel momento in cui questa funzione viene chiamata."
   ]
  },
  {
   "cell_type": "markdown",
   "metadata": {},
   "source": [
    "### 2) Funzione main()"
   ]
  },
  {
   "cell_type": "code",
   "execution_count": null,
   "metadata": {},
   "outputs": [],
   "source": [
    "def main():\n",
    "    #Creazione intestazione della table in cui successivamente andrò a inserire i dati\n",
    "    myTable = PrettyTable([\"name\",\"height\",\"width\",\"grayscale\",\"R\",\"G\",\"B\",\"ALPHA\"])\n",
    "    #Specifico il path in cui andare a ottenere le immagini\n",
    "    path = \"./files/images\"\n",
    "    #Itero per tutti i file presenti nella cartella images (non ho inseriro check per quanto riguarda le estensioni dei file siccome viene dato per scontato che questo controllo sia già stato fatto)\n",
    "    for images in os.listdir(path):    \n",
    "        #Apertura immagine\n",
    "        img = Image.open(str(path) + \"/\" + str(images))\n",
    "        #Conversione immagine in un array\n",
    "        img_array = np.array(img)\n",
    "        #Tramite la funzione .shape ottengo una lista di altazza, larghezza in caso in cui vi sia un terzo elemento si trattera di un' immagine RGB (se img_array.shape[2] == 3) o di un' immagine RGBA (se img_array.shape[2] == 4)\n",
    "        width = img_array.shape[0]\n",
    "        height = img_array.shape[1]\n",
    "        #Variabili d'appoggio\n",
    "        mean_rgb = 0\n",
    "        gray_scale = 0   \n",
    "        #Verifico se l'immagine è una bianco e nero, RGB o RGBA\n",
    "        if len(img_array.shape) == 2:\n",
    "            #Aggiorno il valore della variabile\n",
    "            gray_scale = np.round_(np.mean(img_array),decimals=2)\n",
    "            #Invoco la funzione e passo i valori\n",
    "            add_to_text_table(myTable,images.split(\".\")[0],height,width,gray_scale,mean_rgb,mean_rgb,mean_rgb,mean_rgb)\n",
    "    \n",
    "        elif  len(img_array.shape) == 3 and img_array.shape[2] == 3:\n",
    "            #Aggiorno il valore della variabile\n",
    "            mean_rgb = np.round_(np.mean(np.mean(img_array,axis=0),axis=0),decimals=2)   \n",
    "            add_to_text_table(myTable,images.split(\".\")[0],height,width,gray_scale,mean_rgb[0],mean_rgb[1],mean_rgb[2],\"0\")    \n",
    "            \n",
    "        elif  len(img_array.shape) == 3 and img_array.shape[2] == 4:\n",
    "            #Aggiorno il valore della variabile\n",
    "            mean_rgb = np.round_(np.mean(np.mean(img_array,axis=0),axis=0),decimals=2)     \n",
    "            add_to_text_table(myTable,images.split(\".\")[0],height,width,gray_scale,mean_rgb[0],mean_rgb[1],mean_rgb[2],mean_rgb[3])    \n",
    "    #Printo a schermo la tabella con i valori\n",
    "    print(myTable)"
   ]
  },
  {
   "cell_type": "markdown",
   "metadata": {},
   "source": [
    "Per ottenere la media dei singoli valori R,G,B,A ho effettuato un media della media delle colonne dell'array per i rispettivi colori, infine ho arrotondato a 2 cifre significative."
   ]
  },
  {
   "cell_type": "markdown",
   "metadata": {},
   "source": [
    "# Codice senza commento"
   ]
  },
  {
   "cell_type": "code",
   "execution_count": null,
   "metadata": {},
   "outputs": [],
   "source": [
    "from PIL import Image\n",
    "import numpy as np\n",
    "import os\n",
    "from prettytable import PrettyTable\n",
    "\n",
    "def add_to_text_table(table_name,file_name,pic_height,pic_width,grayscale,red,green,blue,alpha):\n",
    "       table_name.add_row([file_name,pic_height,pic_width,grayscale,red,green,blue,alpha])\n",
    "\n",
    "def main():\n",
    "    myTable = PrettyTable([\"name\",\"height\",\"width\",\"grayscale\",\"R\",\"G\",\"B\",\"ALPHA\"])\n",
    "    path = \"./files/images\"\n",
    "    for images in os.listdir(path):    \n",
    "        img = Image.open(str(path) + \"/\" + str(images))\n",
    "        img_array = np.array(img)\n",
    "        width = img_array.shape[0]\n",
    "        height = img_array.shape[1]\n",
    "        mean_rgb = 0\n",
    "        gray_scale = 0  \n",
    "        if len(img_array.shape) == 2:\n",
    "            gray_scale = np.round_(np.mean(img_array),decimals=2)\n",
    "            add_to_text_table(myTable,images.split(\".\")[0],height,width,gray_scale,mean_rgb,mean_rgb,mean_rgb,mean_rgb)\n",
    "        elif  len(img_array.shape) == 3 and img_array.shape[2] == 3:\n",
    "            mean_rgb = np.round_(np.mean(np.mean(img_array,axis=0),axis=0),decimals=2)   \n",
    "            add_to_text_table(myTable,images.split(\".\")[0],height,width,gray_scale,mean_rgb[0],mean_rgb[1],mean_rgb[2],\"0\")    \n",
    "        elif  len(img_array.shape) == 3 and img_array.shape[2] == 4:\n",
    "            mean_rgb = np.round_(np.mean(np.mean(img_array,axis=0),axis=0),decimals=2)     \n",
    "            add_to_text_table(myTable,images.split(\".\")[0],height,width,gray_scale,mean_rgb[0],mean_rgb[1],mean_rgb[2],mean_rgb[3])    \n",
    "    print(myTable)\n",
    "       \n",
    "if __name__ == \"__main__\":\n",
    "    main()"
   ]
  }
 ],
 "metadata": {
  "language_info": {
   "name": "python"
  },
  "orig_nbformat": 4
 },
 "nbformat": 4,
 "nbformat_minor": 2
}
