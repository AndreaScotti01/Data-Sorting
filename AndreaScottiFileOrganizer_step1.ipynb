{
  "cells": [
    {
      "cell_type": "markdown",
      "metadata": {},
      "source": [
        "## Importazione librerie"
      ]
    },
    {
      "cell_type": "code",
      "execution_count": null,
      "metadata": {},
      "outputs": [],
      "source": [
        "import os\n",
        "import shutil\n",
        "import csv"
      ]
    },
    {
      "cell_type": "markdown",
      "metadata": {},
      "source": [
        "# Definizione delle funzioni"
      ]
    },
    {
      "cell_type": "markdown",
      "metadata": {},
      "source": [
        "### 1) Funzione che otthiene il path in cui è situato il file .py e aggiunge /files al path generale"
      ]
    },
    {
      "cell_type": "code",
      "execution_count": null,
      "metadata": {},
      "outputs": [],
      "source": [
        "def target_folder():\n",
        "    file_path = os.path.join(os.getcwd(), \"files\")\n",
        "    if os.path.exists(file_path) == False:\n",
        "        print(\"Nella cartella in cui si trova questo file non è presente alcuna cartella di nome 'files'!\")\n",
        "    else:\n",
        "        return file_path"
      ]
    },
    {
      "cell_type": "markdown",
      "metadata": {},
      "source": [
        "#### Analisi codice:\n",
        "\n",
        "In questa funzione ho voluto inserire, anche se non richiesto, un messaggio d'errore nel caso in cui la cartella files non sia presente nel path in cui si trova lo script di python.\n",
        "\n",
        "#### Spunti di miglioramento:\n",
        "\n",
        "Spunti:\n",
        "\n",
        "1) Trovare il modo ottenere lo stesso risultato snellendo ulteriormente il codice aumentandone cosi facilità di lettura e scalabilità.\n",
        "2) Nel caso in cui il path non esista, un output  con la lista delle cartelle presenti nella directory in cui lo scipt è collocato.\n",
        "3) Nel caso in cui il path non esista, tramite input dell'utente chiedere se si desideri creare la cartella in questione."
      ]
    },
    {
      "cell_type": "markdown",
      "metadata": {},
      "source": [
        "### 2) Funzione che crea le cartelle docs, images e audio."
      ]
    },
    {
      "cell_type": "code",
      "execution_count": null,
      "metadata": {},
      "outputs": [],
      "source": [
        "def folder():\n",
        "    folder_names = sorted([\"images\",\"audio\",\"docs\"])\n",
        "    for folders in folder_names:\n",
        "        #Cotrolla se le cartlle con questi nomi già esistono\n",
        "        try:\n",
        "            if not os.path.exists(target_folder().join(folders)):\n",
        "                os.mkdir(os.path.join(target_folder(), folders))\n",
        "        except FileExistsError as e:\n",
        "            print(\"Errore! La cartella: \" + str(folders) + \" eisite già. Errore: \", e)\n",
        "    return folder_names"
      ]
    },
    {
      "cell_type": "markdown",
      "metadata": {},
      "source": [
        "#### Analisi codice:\n",
        "\n",
        "Questa funzione crea in le cartelle in ordine alfanumerico i cui nomi sono specificati nella variabile folder_names (che è una lista) e per ogni nome di cartella verifica se questa esista già o meno e in caso negativo la crea, in caso positivo printa a schermo un'errore. Al termine dell' esecuzione quest'ultima viene comunque passata come variabile la list dei nomi delle cartelle.\n",
        "\n",
        "#### Spunti di miglioramento:\n",
        "\n",
        "Spunti:\n",
        "\n",
        "1) Capire come rendere dinamico il codice evitando valori \"hard-coded\"\n",
        "2) Trovare il modo ottenere lo stesso risultato snellendo ulteriormente il codice aumentandone cosi facilità di lettura e scalabilità."
      ]
    },
    {
      "cell_type": "markdown",
      "metadata": {},
      "source": [
        "### 3) Funzione che crea il file recap.csv "
      ]
    },
    {
      "cell_type": "code",
      "execution_count": null,
      "metadata": {},
      "outputs": [],
      "source": [
        "def csv_file_creation():\n",
        "    if not os.path.exists(os.path.join(target_folder(), \"recap.csv\")):\n",
        "        f = open(\"recap.csv\", \"w\", newline=\"\")\n",
        "        f.close()"
      ]
    },
    {
      "cell_type": "markdown",
      "metadata": {},
      "source": [
        "#### Analisi codice:\n",
        "Questa funzione cre un file di nome recap.csv nella stesso percorsoo file in cui lo script si trova.\n",
        "\n",
        "#### Spunti di miglioramento:\n",
        "Spunti:\n",
        "1) Capire come poter creare il file direttemante nella cartella interessata evistando cosi in futuro passaggi di troppo per spostare il file.\n"
      ]
    },
    {
      "cell_type": "markdown",
      "metadata": {},
      "source": [
        "### 4) Funzione che logga e sposta i singoli file"
      ]
    },
    {
      "cell_type": "code",
      "execution_count": null,
      "metadata": {},
      "outputs": [],
      "source": [
        "def log_and_move(file,folder):\n",
        "    k = open(\"recap.csv\", \"a\", newline=\"\")\n",
        "    k_write = csv.writer(k)\n",
        "    try:\n",
        "        shutil.move(os.path.join(target_folder(), file), os.path.join(target_folder(), str(folder)))\n",
        "        print(file,\"type:\" + str(folder),\"size:\" + str(os.path.getsize(os.path.join(target_folder(),(folder),(file)))),\"B\")\n",
        "        #Strip(\".\")[0] non sembra funzionare \n",
        "        k_write.writerow([str(file).strip(\".\"),folder,str(os.path.getsize(os.path.join(target_folder(),(folder),(file))))])\n",
        "        k.close()\n",
        "    except Exception as e:\n",
        "        print(\"Errore! Esiste gia un file di nome: \" +str(file) + \" nella cartella: \" + str(folder) + \" Errore: \" + str(e))\n",
        "        k.close()"
      ]
    },
    {
      "cell_type": "markdown",
      "metadata": {},
      "source": [
        "#### Analisi codice:\n",
        "\n",
        "Questa funzione ha il compito di spostare il file (passatoi nel momento in cui questa funzione viene evocata) nella rispettiva cartella (anch' essa passata nel momento in cui la funzione viene chiamata)  e loggare (sia a schermo che in console) il rispettivo spostamento come descritto nella consegna dell' esercizio. \n",
        "\n",
        "Inoltre ho voluto aggiungere un layer di error prevention, in particolare ho utilizzato il metodo \"try\" immaginando che i file che si desiderino spostare nelle specifiche cartelle siano già presenti in questo modo da evitare un possibile bug del codice in quella determinata casistica\n",
        "\n",
        "#### Spunti di miglioramento:\n",
        "\n",
        "1) Come si può notare dal commento all'interno del codice, non sono riuscito a scrivere all'interno del file .csv il nome dei file privo di estenzione ho provato in vari modi senza riuscire a capire come fare\n",
        "2) Nel caso in cui si verifichi l'eccezione sopracitata sarebbe ideale in un contesto reale chiedere all'utente se desideri comunque continuare sovrascrivendo i file presenti nella cartella"
      ]
    },
    {
      "cell_type": "markdown",
      "metadata": {},
      "source": [
        "### 5) Funzione finale"
      ]
    },
    {
      "cell_type": "code",
      "execution_count": null,
      "metadata": {},
      "outputs": [],
      "source": [
        "def file_to_folder(folder_name_list):\n",
        "    csv_file_creation()\n",
        "    f = open(\"recap.csv\", \"w\", newline=\"\")\n",
        "    write = csv.writer(f)\n",
        "    write.writerow([\"Name\",\"Type\",\"Size(B)\"])\n",
        "    f.close()\n",
        "    for file in os.listdir(target_folder()):\n",
        "        for folder in folder_name_list:\n",
        "            if os.path.isfile(os.path.join(target_folder(), file)):\n",
        "                if folder == \"images\":    \n",
        "                    if str(file).split(\".\")[-1] == \"png\" or str(file).split(\".\")[-1] == \"jpeg\" or str(file).split(\".\")[-1] == \"jpg\":\n",
        "                        log_and_move(str(file),folder,)\n",
        "                elif folder == \"audio\":    \n",
        "                    if str(file).split(\".\")[-1] == \"mp3\":\n",
        "                        log_and_move(str(file),folder,)\n",
        "                elif folder == \"docs\":   \n",
        "                    if str(file).split(\".\")[-1] == \"txt\" or str(file).split(\".\")[-1] == \"odt\":\n",
        "                        log_and_move(str(file),folder,)\n",
        "    try:\n",
        "        shutil.move(os.path.join(os.getcwd(),\"recap.csv\"), target_folder())\n",
        "    except Exception as e:\n",
        "        print(\"Errore! Esiste gia un file di nome report.csv nella cartella files! Errore: \" + str(e))"
      ]
    },
    {
      "cell_type": "markdown",
      "metadata": {},
      "source": [
        "#### Analisi codice:\n",
        "\n",
        "Quest' ultima funzione ha il compito effettivo di eseguire lo spostamentoi di tutti i file.\n",
        "\n",
        "Come prima cosa ottiene la lista di nome come argomento nel momento in cui viene chiamata, successivamente evoca a sua volta la funzione n°2 per poi scrive all'interno del file .csv appena creato l'intestazione.\n",
        "\n",
        "In seguito alla scrittura su file .csv e alla sua chiusura sono presenti 2 cicli for per iterare su tutti i file presenti nella cartella /files e successivamente per iterare sulle cartelle Images,Docs e Audio create dalla funzione n°1.\n",
        "\n",
        "A questo punto sono presenti delle condizioni al fine di posizionare ogni file nella cartella adeguata e questo viene fatto tramite la funzione .split() per controllare l'estenzione dei singoli files.\n",
        "\n",
        "Se le condizioni vengono rispettate viene evocata la funzione n°4 che logga e sposta i file nelle rispettive cartelle.\n",
        "\n",
        "In conclusione tramite il metodo \"try\" viene verificato (anche se non richiesto) se esista già un file di nome \"recap.csv\" all'interno della cartella /files e se affermativo informa l'utente del problema altrimenti lo sposta dal percorso originario dello script alla cartella /files.\n",
        "\n",
        "#### Spunti di miglioramento:\n",
        "\n",
        "1) Trovare il modo ottenere lo stesso risultato snellendo ulteriormente il codice aumentandone cosi facilità di lettura e scalabilità ed efficienza.\n",
        "2) Capire come rendere dinamico il tutto evitando di avere valori hardcoded come le esenzioni, avrei potuto iterare su un dizionario in cui come chiave specifico il nome della cartella e come valore una lista di estenzioni ammesse affinche i file possano essere spostati nella cartella."
      ]
    },
    {
      "cell_type": "markdown",
      "metadata": {},
      "source": [
        "# Codice finale senza commenti"
      ]
    },
    {
      "cell_type": "code",
      "execution_count": null,
      "metadata": {},
      "outputs": [],
      "source": [
        "import os\n",
        "import shutil\n",
        "import csv\n",
        "\n",
        "def target_folder():\n",
        "    file_path = os.path.join(os.getcwd(), \"files\")\n",
        "    if os.path.exists(file_path) == False:\n",
        "        print(\"Nella cartella in cui si trova questo file non è presente alcuna cartella di nome 'files'! Questa è una lista delle cartelle presenti nel: \" + str(os.path.dirname(os.getcwd())))\n",
        "    else:\n",
        "        return file_path\n",
        "    \n",
        "def folder():\n",
        "    folder_names = sorted([\"images\",\"audio\",\"docs\"])\n",
        "    for folders in folder_names:\n",
        "        try:\n",
        "            if not os.path.exists(target_folder().join(folders)):\n",
        "                os.mkdir(os.path.join(target_folder(), folders))\n",
        "        except FileExistsError as e:\n",
        "            print(\"Errore! La cartella: \" + str(folders) + \" eisite già. Errore: \", e)\n",
        "    return folder_names\n",
        "\n",
        "def csv_file_creation():\n",
        "    if not os.path.exists(os.path.join(target_folder(), \"recap.csv\")):    \n",
        "        f = open(\"recap.csv\", \"w\", newline=\"\")\n",
        "        f.close()\n",
        "        \n",
        "def log_and_move(file,folder):\n",
        "    k = open(\"recap.csv\", \"a\", newline=\"\")\n",
        "    k_write = csv.writer(k)\n",
        "    try:\n",
        "        shutil.move(os.path.join(target_folder(), file), os.path.join(target_folder(), str(folder)))\n",
        "        print(file,\"type:\" + str(folder),\"size:\" + str(os.path.getsize(os.path.join(target_folder(),(folder),(file)))),\"B\")\n",
        "        k_write.writerow([str(file).strip(\".\"),folder,str(os.path.getsize(os.path.join(target_folder(),(folder),(file))))])\n",
        "        k.close()\n",
        "    except Exception as e:\n",
        "        print(\"Errore! Esiste gia un file di nome: \" +str(file) + \" nella cartella: \" + str(folder) + \" Errore: \" + str(e))\n",
        "        k.close()\n",
        "\n",
        "def file_to_folder(folder_name_list):\n",
        "    csv_file_creation()\n",
        "    f = open(\"recap.csv\", \"w\", newline=\"\")\n",
        "    write = csv.writer(f)\n",
        "    write.writerow([\"Name\",\"Type\",\"Size(B)\"])\n",
        "    f.close()\n",
        "    for file in os.listdir(target_folder()):\n",
        "        for folder in folder_name_list:\n",
        "            if os.path.isfile(os.path.join(target_folder(), file)):\n",
        "                if folder == \"images\":    \n",
        "                    if str(file).split(\".\")[-1] == \"png\" or str(file).split(\".\")[-1] == \"jpeg\" or str(file).split(\".\")[-1] == \"jpg\":\n",
        "                        log_and_move(str(file),folder,)\n",
        "                elif folder == \"audio\":    \n",
        "                    if str(file).split(\".\")[-1] == \"mp3\":\n",
        "                        log_and_move(str(file),folder,)\n",
        "                elif folder == \"docs\":   \n",
        "                    if str(file).split(\".\")[-1] == \"txt\" or str(file).split(\".\")[-1] == \"odt\":\n",
        "                        log_and_move(str(file),folder,)\n",
        "    try:\n",
        "        shutil.move(os.path.join(os.getcwd(),\"recap.csv\"), target_folder())\n",
        "    except Exception as e:\n",
        "        print(\"Errore! Esiste gia un file di nome report.csv nella cartella files! Errore: \" + str(e))\n",
        "\n",
        "def main():\n",
        "    file_to_folder(folder())\n",
        "\n",
        "if __name__ == \"__main__\":\n",
        "    main()\n",
        "\n"
      ]
    }
  ],
  "metadata": {
    "kernelspec": {
      "display_name": "Pyolite",
      "language": "python",
      "name": "python"
    },
    "language_info": {
      "codemirror_mode": {
        "name": "python",
        "version": 3
      },
      "file_extension": ".py",
      "mimetype": "text/x-python",
      "name": "python",
      "nbconvert_exporter": "python",
      "pygments_lexer": "ipython3",
      "version": "3.8"
    }
  },
  "nbformat": 4,
  "nbformat_minor": 4
}
